{
 "cells": [
  {
   "cell_type": "markdown",
   "metadata": {},
   "source": [
    "## **Import Mudules**"
   ]
  },
  {
   "cell_type": "code",
   "execution_count": 1,
   "metadata": {
    "_cell_guid": "b1076dfc-b9ad-4769-8c92-a6c4dae69d19",
    "_uuid": "8f2839f25d086af736a60e9eeb907d3b93b6e0e5",
    "execution": {
     "iopub.execute_input": "2021-01-13T06:46:56.881844Z",
     "iopub.status.busy": "2021-01-13T06:46:56.880917Z",
     "iopub.status.idle": "2021-01-13T06:46:56.886856Z",
     "shell.execute_reply": "2021-01-13T06:46:56.886111Z"
    },
    "papermill": {
     "duration": 0.027925,
     "end_time": "2021-01-13T06:46:56.886982",
     "exception": false,
     "start_time": "2021-01-13T06:46:56.859057",
     "status": "completed"
    },
    "tags": []
   },
   "outputs": [],
   "source": [
    "import numpy as np\n",
    "import pandas as pd\n",
    "pd.set_option('display.max_columns', None)\n",
    "pd.set_option('display.max_rows', 200)\n",
    "\n",
    "from catboost import CatBoostClassifier\n",
    "from sklearn.model_selection import train_test_split\n",
    "from sklearn.metrics import confusion_matrix, classification_report\n",
    "from sklearn.preprocessing import LabelEncoder\n"
   ]
  },
  {
   "cell_type": "markdown",
   "metadata": {},
   "source": [
    "## **Data Processing**"
   ]
  },
  {
   "cell_type": "markdown",
   "metadata": {},
   "source": [
    "* Since the capacity of the data is quite large (over 4*10^7 rows), one-tenth(or one-fifth) was selected for analysis.\n",
    "\n",
    "* The test set is concatenated with the training set for data processing."
   ]
  },
  {
   "cell_type": "code",
   "execution_count": 2,
   "metadata": {
    "_cell_guid": "79c7e3d0-c299-4dcb-8224-4455121ee9b0",
    "_uuid": "d629ff2d2480ee46fbb7e2d37f6b5fab8052498a",
    "execution": {
     "iopub.execute_input": "2021-01-13T06:46:56.918836Z",
     "iopub.status.busy": "2021-01-13T06:46:56.918207Z",
     "iopub.status.idle": "2021-01-13T06:46:57.224906Z",
     "shell.execute_reply": "2021-01-13T06:46:57.223345Z"
    },
    "papermill": {
     "duration": 0.324074,
     "end_time": "2021-01-13T06:46:57.225023",
     "exception": false,
     "start_time": "2021-01-13T06:46:56.900949",
     "status": "completed"
    },
    "tags": []
   },
   "outputs": [],
   "source": [
    "df = pd.read_csv(\"./train/train.csv\", skiprows = lambda x: x>0 and np.random.rand() > 0.1)\n",
    "\n",
    "len_train = len(df)\n",
    "df = pd.concat([df, pd.read_csv(\"./test/test.csv\")])\n",
    "df.fillna(0, inplace = True)"
   ]
  },
  {
   "cell_type": "markdown",
   "metadata": {},
   "source": [
    "* The training file only includes ten-days history of user-clicking. This implies sequence analysis could be difficult.\n",
    "\n",
    "* However, the weekday and hour may be meaningful for analysis."
   ]
  },
  {
   "cell_type": "code",
   "execution_count": 3,
   "metadata": {},
   "outputs": [],
   "source": [
    "df['hour'] = pd.to_datetime(df['hour'], format= '%y%m%d%H', errors='ignore')\n",
    "df['weekday'] = df['hour'].dt.weekday\n",
    "df['hr_24'] = df['hour'].dt.hour"
   ]
  },
  {
   "cell_type": "markdown",
   "metadata": {},
   "source": [
    "* According to the discussion board of the competition, the data provider admitted that \"ID\" is useless.\n",
    "\n",
    "* \"hour\" can be dropped after data parsing.\n",
    "\n",
    "* \"C15\" is almost identical to \"C16\". Drop it.\n",
    "\n",
    "* \"C1\" and \"device_type\" are omitted because they are insignificant in model training. (Feature Importance) "
   ]
  },
  {
   "cell_type": "code",
   "execution_count": 4,
   "metadata": {},
   "outputs": [],
   "source": [
    "df = df.drop(['id', 'hour','C15','C1','device_type'], axis=1)"
   ]
  },
  {
   "cell_type": "markdown",
   "metadata": {},
   "source": [
    "### Split The Training and Test Set"
   ]
  },
  {
   "cell_type": "code",
   "execution_count": 5,
   "metadata": {},
   "outputs": [],
   "source": [
    "x_train = df[:len_train]\n",
    "x_test = df[len_train:]"
   ]
  },
  {
   "cell_type": "code",
   "execution_count": 6,
   "metadata": {},
   "outputs": [],
   "source": [
    "y_train = x_train['click']\n",
    "x_train = x_train.drop(['click'], axis=1)\n",
    "\n",
    "y_test = x_test['click']\n",
    "x_test = x_test.drop(['click'], axis=1)"
   ]
  },
  {
   "cell_type": "code",
   "execution_count": 7,
   "metadata": {},
   "outputs": [
    {
     "name": "stdout",
     "output_type": "stream",
     "text": [
      "<class 'pandas.core.frame.DataFrame'>\n",
      "Int64Index: 4042904 entries, 0 to 4042903\n",
      "Data columns (total 20 columns):\n",
      " #   Column            Dtype \n",
      "---  ------            ----- \n",
      " 0   banner_pos        int64 \n",
      " 1   site_id           object\n",
      " 2   site_domain       object\n",
      " 3   site_category     object\n",
      " 4   app_id            object\n",
      " 5   app_domain        object\n",
      " 6   app_category      object\n",
      " 7   device_id         object\n",
      " 8   device_ip         object\n",
      " 9   device_model      object\n",
      " 10  device_conn_type  int64 \n",
      " 11  C14               int64 \n",
      " 12  C16               int64 \n",
      " 13  C17               int64 \n",
      " 14  C18               int64 \n",
      " 15  C19               int64 \n",
      " 16  C20               int64 \n",
      " 17  C21               int64 \n",
      " 18  weekday           int64 \n",
      " 19  hr_24             int64 \n",
      "dtypes: int64(11), object(9)\n",
      "memory usage: 647.7+ MB\n"
     ]
    }
   ],
   "source": [
    "x_train.info()"
   ]
  },
  {
   "cell_type": "markdown",
   "metadata": {},
   "source": [
    "### Create a Validation Set from the Training Set"
   ]
  },
  {
   "cell_type": "code",
   "execution_count": 8,
   "metadata": {},
   "outputs": [],
   "source": [
    "\n",
    "\n",
    "x_train_new, x_val, y_train_new, y_val = train_test_split(x_train, y_train, test_size=0.2, random_state=0)\n",
    "\n",
    "# x_test = x_test.drop(['click'], axis=1)"
   ]
  },
  {
   "cell_type": "markdown",
   "metadata": {},
   "source": [
    "## **Grid Search**"
   ]
  },
  {
   "cell_type": "code",
   "execution_count": 9,
   "metadata": {},
   "outputs": [],
   "source": [
    "# grid = {'iterations': [50, 100, 150],\n",
    "#         'learning_rate': [0.1, 0.15, 0.2],\n",
    "#         'depth': [4, 6, 8],\n",
    "#         'l2_leaf_reg': [0.2, 0.5, 1]}\n",
    "\n",
    "# model = CatBoostClassifier(random_state=42,\n",
    "#                          loss_function='Logloss',\n",
    "#                          eval_metric='Logloss')\n",
    "\n",
    "# model.grid_search(grid, x_train, y_train)"
   ]
  },
  {
   "cell_type": "markdown",
   "metadata": {},
   "source": [
    "## **Model Training**"
   ]
  },
  {
   "cell_type": "code",
   "execution_count": 10,
   "metadata": {
    "execution": {
     "iopub.execute_input": "2021-01-13T06:47:57.506008Z",
     "iopub.status.busy": "2021-01-13T06:47:57.504932Z",
     "iopub.status.idle": "2021-01-13T06:47:57.507593Z",
     "shell.execute_reply": "2021-01-13T06:47:57.506774Z"
    },
    "papermill": {
     "duration": 0.035616,
     "end_time": "2021-01-13T06:47:57.507736",
     "exception": false,
     "start_time": "2021-01-13T06:47:57.472120",
     "status": "completed"
    },
    "tags": []
   },
   "outputs": [],
   "source": [
    "cat_features = range(x_train_new.shape[1])\n",
    "model = CatBoostClassifier(\n",
    "    iterations=50,\n",
    "    learning_rate=0.5,\n",
    "    task_type='GPU',\n",
    "    loss_function='Logloss',\n",
    "#     depth=6,\n",
    ")"
   ]
  },
  {
   "cell_type": "code",
   "execution_count": 11,
   "metadata": {
    "execution": {
     "iopub.execute_input": "2021-01-13T06:47:57.562917Z",
     "iopub.status.busy": "2021-01-13T06:47:57.561661Z",
     "iopub.status.idle": "2021-01-13T06:52:54.614366Z",
     "shell.execute_reply": "2021-01-13T06:52:54.615372Z"
    },
    "papermill": {
     "duration": 297.086107,
     "end_time": "2021-01-13T06:52:54.615575",
     "exception": false,
     "start_time": "2021-01-13T06:47:57.529468",
     "status": "completed"
    },
    "tags": []
   },
   "outputs": [
    {
     "name": "stderr",
     "output_type": "stream",
     "text": [
      "c:\\Users\\kuma\\AppData\\Local\\Programs\\Python\\Python39\\lib\\site-packages\\catboost\\core.py:1419: FutureWarning: iteritems is deprecated and will be removed in a future version. Use .items instead.\n",
      "  self._init_pool(data, label, cat_features, text_features, embedding_features, embedding_features_data, pairs, weight,\n"
     ]
    },
    {
     "name": "stdout",
     "output_type": "stream",
     "text": [
      "0:\tlearn: 0.4624009\ttest: 0.4623564\tbest: 0.4623564 (0)\ttotal: 60.3ms\tremaining: 2.95s\n",
      "10:\tlearn: 0.3998130\ttest: 0.3981294\tbest: 0.3981294 (10)\ttotal: 656ms\tremaining: 2.32s\n",
      "20:\tlearn: 0.3973741\ttest: 0.3959350\tbest: 0.3959350 (20)\ttotal: 1.33s\tremaining: 1.84s\n",
      "30:\tlearn: 0.3962113\ttest: 0.3948502\tbest: 0.3948502 (30)\ttotal: 1.93s\tremaining: 1.18s\n",
      "40:\tlearn: 0.3952616\ttest: 0.3939404\tbest: 0.3939404 (40)\ttotal: 2.53s\tremaining: 555ms\n",
      "49:\tlearn: 0.3948362\ttest: 0.3935644\tbest: 0.3935644 (49)\ttotal: 3.06s\tremaining: 0us\n",
      "bestTest = 0.3935643893\n",
      "bestIteration = 49\n"
     ]
    },
    {
     "data": {
      "text/plain": [
       "<catboost.core.CatBoostClassifier at 0x1407e3d9d00>"
      ]
     },
     "execution_count": 11,
     "metadata": {},
     "output_type": "execute_result"
    }
   ],
   "source": [
    "model.fit(\n",
    "    x_train_new, y_train_new,\n",
    "    eval_set=(x_val, y_val),\n",
    "    cat_features=cat_features,\n",
    "    verbose=10,\n",
    ")"
   ]
  },
  {
   "cell_type": "markdown",
   "metadata": {},
   "source": [
    "## **Feature Importance**\n",
    "\n",
    "Omit those features with only small importances"
   ]
  },
  {
   "cell_type": "code",
   "execution_count": 12,
   "metadata": {
    "execution": {
     "iopub.execute_input": "2021-01-13T06:52:54.670848Z",
     "iopub.status.busy": "2021-01-13T06:52:54.669976Z",
     "iopub.status.idle": "2021-01-13T06:52:54.700457Z",
     "shell.execute_reply": "2021-01-13T06:52:54.701280Z"
    },
    "papermill": {
     "duration": 0.060882,
     "end_time": "2021-01-13T06:52:54.701442",
     "exception": false,
     "start_time": "2021-01-13T06:52:54.640560",
     "status": "completed"
    },
    "tags": []
   },
   "outputs": [
    {
     "data": {
      "text/html": [
       "<div>\n",
       "<style scoped>\n",
       "    .dataframe tbody tr th:only-of-type {\n",
       "        vertical-align: middle;\n",
       "    }\n",
       "\n",
       "    .dataframe tbody tr th {\n",
       "        vertical-align: top;\n",
       "    }\n",
       "\n",
       "    .dataframe thead th {\n",
       "        text-align: right;\n",
       "    }\n",
       "</style>\n",
       "<table border=\"1\" class=\"dataframe\">\n",
       "  <thead>\n",
       "    <tr style=\"text-align: right;\">\n",
       "      <th></th>\n",
       "      <th>Feature Id</th>\n",
       "      <th>Importances</th>\n",
       "    </tr>\n",
       "  </thead>\n",
       "  <tbody>\n",
       "    <tr>\n",
       "      <th>0</th>\n",
       "      <td>app_id</td>\n",
       "      <td>27.215596</td>\n",
       "    </tr>\n",
       "    <tr>\n",
       "      <th>1</th>\n",
       "      <td>site_id</td>\n",
       "      <td>24.248651</td>\n",
       "    </tr>\n",
       "    <tr>\n",
       "      <th>2</th>\n",
       "      <td>C17</td>\n",
       "      <td>8.326144</td>\n",
       "    </tr>\n",
       "    <tr>\n",
       "      <th>3</th>\n",
       "      <td>device_id</td>\n",
       "      <td>6.571508</td>\n",
       "    </tr>\n",
       "    <tr>\n",
       "      <th>4</th>\n",
       "      <td>site_domain</td>\n",
       "      <td>5.333904</td>\n",
       "    </tr>\n",
       "    <tr>\n",
       "      <th>5</th>\n",
       "      <td>C14</td>\n",
       "      <td>5.084660</td>\n",
       "    </tr>\n",
       "    <tr>\n",
       "      <th>6</th>\n",
       "      <td>device_ip</td>\n",
       "      <td>5.033141</td>\n",
       "    </tr>\n",
       "    <tr>\n",
       "      <th>7</th>\n",
       "      <td>device_model</td>\n",
       "      <td>4.352468</td>\n",
       "    </tr>\n",
       "    <tr>\n",
       "      <th>8</th>\n",
       "      <td>C21</td>\n",
       "      <td>3.928434</td>\n",
       "    </tr>\n",
       "    <tr>\n",
       "      <th>9</th>\n",
       "      <td>app_domain</td>\n",
       "      <td>1.729541</td>\n",
       "    </tr>\n",
       "    <tr>\n",
       "      <th>10</th>\n",
       "      <td>app_category</td>\n",
       "      <td>1.634648</td>\n",
       "    </tr>\n",
       "    <tr>\n",
       "      <th>11</th>\n",
       "      <td>C19</td>\n",
       "      <td>1.175020</td>\n",
       "    </tr>\n",
       "    <tr>\n",
       "      <th>12</th>\n",
       "      <td>device_conn_type</td>\n",
       "      <td>1.045111</td>\n",
       "    </tr>\n",
       "    <tr>\n",
       "      <th>13</th>\n",
       "      <td>banner_pos</td>\n",
       "      <td>0.948479</td>\n",
       "    </tr>\n",
       "    <tr>\n",
       "      <th>14</th>\n",
       "      <td>C20</td>\n",
       "      <td>0.859338</td>\n",
       "    </tr>\n",
       "    <tr>\n",
       "      <th>15</th>\n",
       "      <td>hr_24</td>\n",
       "      <td>0.804277</td>\n",
       "    </tr>\n",
       "    <tr>\n",
       "      <th>16</th>\n",
       "      <td>site_category</td>\n",
       "      <td>0.729152</td>\n",
       "    </tr>\n",
       "    <tr>\n",
       "      <th>17</th>\n",
       "      <td>C16</td>\n",
       "      <td>0.436200</td>\n",
       "    </tr>\n",
       "    <tr>\n",
       "      <th>18</th>\n",
       "      <td>C18</td>\n",
       "      <td>0.314017</td>\n",
       "    </tr>\n",
       "    <tr>\n",
       "      <th>19</th>\n",
       "      <td>weekday</td>\n",
       "      <td>0.229709</td>\n",
       "    </tr>\n",
       "  </tbody>\n",
       "</table>\n",
       "</div>"
      ],
      "text/plain": [
       "          Feature Id  Importances\n",
       "0             app_id    27.215596\n",
       "1            site_id    24.248651\n",
       "2                C17     8.326144\n",
       "3          device_id     6.571508\n",
       "4        site_domain     5.333904\n",
       "5                C14     5.084660\n",
       "6          device_ip     5.033141\n",
       "7       device_model     4.352468\n",
       "8                C21     3.928434\n",
       "9         app_domain     1.729541\n",
       "10      app_category     1.634648\n",
       "11               C19     1.175020\n",
       "12  device_conn_type     1.045111\n",
       "13        banner_pos     0.948479\n",
       "14               C20     0.859338\n",
       "15             hr_24     0.804277\n",
       "16     site_category     0.729152\n",
       "17               C16     0.436200\n",
       "18               C18     0.314017\n",
       "19           weekday     0.229709"
      ]
     },
     "execution_count": 12,
     "metadata": {},
     "output_type": "execute_result"
    }
   ],
   "source": [
    "model.get_feature_importance(prettified=True)"
   ]
  },
  {
   "cell_type": "code",
   "execution_count": 13,
   "metadata": {
    "execution": {
     "iopub.execute_input": "2021-01-13T06:53:24.113251Z",
     "iopub.status.busy": "2021-01-13T06:53:24.112201Z",
     "iopub.status.idle": "2021-01-13T06:54:13.429002Z",
     "shell.execute_reply": "2021-01-13T06:54:13.427879Z"
    },
    "papermill": {
     "duration": 54.378082,
     "end_time": "2021-01-13T06:54:13.429124",
     "exception": false,
     "start_time": "2021-01-13T06:53:19.051042",
     "status": "completed"
    },
    "tags": []
   },
   "outputs": [
    {
     "name": "stderr",
     "output_type": "stream",
     "text": [
      "c:\\Users\\kuma\\AppData\\Local\\Programs\\Python\\Python39\\lib\\site-packages\\catboost\\core.py:1419: FutureWarning: iteritems is deprecated and will be removed in a future version. Use .items instead.\n",
      "  self._init_pool(data, label, cat_features, text_features, embedding_features, embedding_features_data, pairs, weight,\n"
     ]
    }
   ],
   "source": [
    "y_test_pred = model.predict(x_test, \n",
    "                        prediction_type='Probability', \n",
    "                        ntree_start=0, ntree_end=model.get_best_iteration(), \n",
    "                        thread_count=-1, verbose=None)"
   ]
  },
  {
   "cell_type": "code",
   "execution_count": 14,
   "metadata": {
    "execution": {
     "iopub.execute_input": "2021-01-13T06:54:13.534607Z",
     "iopub.status.busy": "2021-01-13T06:54:13.533168Z",
     "iopub.status.idle": "2021-01-13T06:54:13.602918Z",
     "shell.execute_reply": "2021-01-13T06:54:13.603395Z"
    },
    "papermill": {
     "duration": 0.10181,
     "end_time": "2021-01-13T06:54:13.603526",
     "exception": false,
     "start_time": "2021-01-13T06:54:13.501716",
     "status": "completed"
    },
    "tags": []
   },
   "outputs": [],
   "source": [
    "submission = pd.read_csv('./sampleSubmission/sampleSubmission.csv')\n",
    "submission[submission.columns[1]] = y_test_pred[:,1]\n",
    "submission.to_csv('submission.csv', index=False)"
   ]
  },
  {
   "cell_type": "markdown",
   "metadata": {},
   "source": [
    "# **Results of Validation Set**"
   ]
  },
  {
   "cell_type": "code",
   "execution_count": 15,
   "metadata": {},
   "outputs": [
    {
     "name": "stderr",
     "output_type": "stream",
     "text": [
      "c:\\Users\\kuma\\AppData\\Local\\Programs\\Python\\Python39\\lib\\site-packages\\catboost\\core.py:1419: FutureWarning: iteritems is deprecated and will be removed in a future version. Use .items instead.\n",
      "  self._init_pool(data, label, cat_features, text_features, embedding_features, embedding_features_data, pairs, weight,\n"
     ]
    }
   ],
   "source": [
    "y_val_pred = model.predict(x_val, \n",
    "                        prediction_type='Probability', \n",
    "                        ntree_start=0, ntree_end=model.get_best_iteration(), \n",
    "                        thread_count=-1, verbose=None)"
   ]
  },
  {
   "cell_type": "code",
   "execution_count": 16,
   "metadata": {},
   "outputs": [],
   "source": [
    "result = (y_val_pred[:,1] > y_val_pred[:,0]).astype(int)"
   ]
  },
  {
   "cell_type": "markdown",
   "metadata": {},
   "source": []
  },
  {
   "cell_type": "code",
   "execution_count": 17,
   "metadata": {},
   "outputs": [
    {
     "name": "stdout",
     "output_type": "stream",
     "text": [
      "              precision    recall  f1-score   support\n",
      "\n",
      "         0.0       0.84      0.99      0.91    671216\n",
      "         1.0       0.61      0.08      0.14    137365\n",
      "\n",
      "    accuracy                           0.84    808581\n",
      "   macro avg       0.73      0.54      0.53    808581\n",
      "weighted avg       0.80      0.84      0.78    808581\n",
      "\n"
     ]
    }
   ],
   "source": [
    "print(classification_report(y_val, result))"
   ]
  }
 ],
 "metadata": {
  "kernelspec": {
   "display_name": "Python 3.9.13 64-bit",
   "language": "python",
   "name": "python3"
  },
  "language_info": {
   "codemirror_mode": {
    "name": "ipython",
    "version": 3
   },
   "file_extension": ".py",
   "mimetype": "text/x-python",
   "name": "python",
   "nbconvert_exporter": "python",
   "pygments_lexer": "ipython3",
   "version": "3.9.13"
  },
  "papermill": {
   "duration": 466.888039,
   "end_time": "2021-01-13T06:54:39.533610",
   "environment_variables": {},
   "exception": null,
   "input_path": "__notebook__.ipynb",
   "output_path": "__notebook__.ipynb",
   "parameters": {},
   "start_time": "2021-01-13T06:46:52.645571",
   "version": "2.1.0"
  },
  "vscode": {
   "interpreter": {
    "hash": "e591c617e3e508f153239b1f0b3cf298d30a2a87137eab9a6b056081a386c14f"
   }
  }
 },
 "nbformat": 4,
 "nbformat_minor": 4
}
